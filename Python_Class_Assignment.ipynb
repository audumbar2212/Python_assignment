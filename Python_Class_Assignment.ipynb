{
 "cells": [
  {
   "cell_type": "code",
   "execution_count": 1,
   "id": "7c3f9558",
   "metadata": {},
   "outputs": [
    {
     "name": "stdout",
     "output_type": "stream",
     "text": [
      "Enter a number to calculate the factiorial : 5\n",
      "120\n"
     ]
    }
   ],
   "source": [
    "def factorial(num):\n",
    "    if num == 0:\n",
    "        return 1\n",
    "    else:\n",
    "        return num * factorial(num-1)\n",
    "num=int(input(\"Enter a number to calculate the factiorial : \"))\n",
    "print(factorial(num))"
   ]
  },
  {
   "cell_type": "code",
   "execution_count": 2,
   "id": "69788853",
   "metadata": {},
   "outputs": [
    {
     "name": "stdout",
     "output_type": "stream",
     "text": [
      "Enter person Name :R2D2\n",
      "Luke, I am your droid.\n"
     ]
    }
   ],
   "source": [
    "def relation_to_luke(person):\n",
    "    dict = {'Darth Vader':'father', 'Leia':'sister','Han':'brother in law','R2D2':'droid'}\n",
    "    print(\"Luke, I am your \"+dict[person]+\".\")\n",
    "person=input(\"Enter person Name :\")\n",
    "relation_to_luke(person)"
   ]
  },
  {
   "cell_type": "code",
   "execution_count": 3,
   "id": "0cb4f17f",
   "metadata": {},
   "outputs": [
    {
     "name": "stdout",
     "output_type": "stream",
     "text": [
      "Enter Number to count digit:9856\n",
      "4\n"
     ]
    }
   ],
   "source": [
    "def  return_the_number_of_digits(num):\n",
    "    count = 0\n",
    "    while num!= 0:\n",
    "        num=num // 10\n",
    "        count=count+1\n",
    "    print(count)\n",
    "num=int(input(\"Enter Number to count digit:\"))\n",
    "return_the_number_of_digits(num)\n"
   ]
  },
  {
   "cell_type": "code",
   "execution_count": 4,
   "id": "0f1d47e9",
   "metadata": {},
   "outputs": [
    {
     "name": "stdout",
     "output_type": "stream",
     "text": [
      "Enter a number to calculate the factiorial Multiplication : 5\n",
      "34560\n"
     ]
    }
   ],
   "source": [
    "def factorial(num):\n",
    "    if num == 0:\n",
    "        return 1\n",
    "    else:\n",
    "        return num * factorial(num-1)\n",
    "def fact_mul(num):\n",
    "    mul=1\n",
    "    while num!=0:\n",
    "        mul=mul*factorial(num)\n",
    "        num=num-1\n",
    "    return mul\n",
    "num=int(input(\"Enter a number to calculate the factiorial Multiplication : \"))\n",
    "print(fact_mul(num))"
   ]
  },
  {
   "cell_type": "code",
   "execution_count": 5,
   "id": "112df9a5",
   "metadata": {},
   "outputs": [
    {
     "name": "stdout",
     "output_type": "stream",
     "text": [
      "Enter numbers:\n",
      "10,20,30\n"
     ]
    },
    {
     "data": {
      "text/plain": [
       "1400"
      ]
     },
     "execution_count": 5,
     "metadata": {},
     "output_type": "execute_result"
    }
   ],
   "source": [
    "def square_addtion(numbers):\n",
    "    total=0\n",
    "    type(a)\n",
    "    for num in numbers:\n",
    "        total=total+num*num\n",
    "    return total\n",
    "\n",
    "print(\"Enter numbers:\")\n",
    "numbers=(input())\n",
    "a=numbers.split(\",\")\n",
    "a = list(map(int, a))\n",
    "square_addtion(a)"
   ]
  },
  {
   "cell_type": "code",
   "execution_count": 6,
   "id": "a77a6a2c",
   "metadata": {},
   "outputs": [
    {
     "name": "stdout",
     "output_type": "stream",
     "text": [
      "\n",
      "Enter 1st number :7\n",
      "Enter 2nd number :8\n",
      "Enter Oprator :*\n"
     ]
    },
    {
     "data": {
      "text/plain": [
       "56"
      ]
     },
     "execution_count": 6,
     "metadata": {},
     "output_type": "execute_result"
    }
   ],
   "source": [
    "def opration(number1,number2,oprator):\n",
    "    if oprator == \"+\":\n",
    "        total=number1+number2\n",
    "    elif oprator == \"-\":\n",
    "        total=number1-number2\n",
    "    elif oprator == \"/\":\n",
    "        total=number1/number2\n",
    "    elif oprator == \"*\":\n",
    "        total=number1*number2\n",
    "    return total\n",
    "\n",
    "print()\n",
    "number1=int(input(\"Enter 1st number :\"))\n",
    "number2=int(input(\"Enter 2nd number :\"))\n",
    "oprator=(input(\"Enter Oprator :\"))\n",
    "type(oprator)\n",
    "opration(number1,number2,oprator)"
   ]
  },
  {
   "cell_type": "code",
   "execution_count": 7,
   "id": "5adddd39",
   "metadata": {},
   "outputs": [
    {
     "name": "stdout",
     "output_type": "stream",
     "text": [
      "Enter Number :7\n",
      "I CAN\n",
      "I WILL\n",
      "I CAN\n",
      "I WILL\n",
      "I CAN\n",
      "I WILL\n",
      "I CAN\n"
     ]
    }
   ],
   "source": [
    "def functuon1(num):\n",
    "    while num!=0:\n",
    "        if num%2==1:\n",
    "            print(\"I CAN\")\n",
    "        if num%2==0:\n",
    "            print(\"I WILL\")\n",
    "        num=num-1\n",
    "num=int(input(\"Enter Number :\"))\n",
    "functuon1(num)"
   ]
  },
  {
   "cell_type": "code",
   "execution_count": 8,
   "id": "091d6bf5",
   "metadata": {},
   "outputs": [
    {
     "name": "stdout",
     "output_type": "stream",
     "text": [
      "Enter numbers of List 1:44,46\n",
      "Enter numbers of List 2:45\n"
     ]
    },
    {
     "data": {
      "text/plain": [
       "True"
      ]
     },
     "execution_count": 8,
     "metadata": {},
     "output_type": "execute_result"
    }
   ],
   "source": [
    "def consecutive_combo(a,b):\n",
    "    c=a+b\n",
    "    c.sort()\n",
    "    d=c[-1]-c[0]\n",
    "    e=len(c)\n",
    "    if e-d==1:\n",
    "        return True\n",
    "    else:\n",
    "        return False\n",
    "\n",
    "a = list(map(int, (input(\"Enter numbers of List 1:\")).split(\",\")))\n",
    "b = list(map(int, (input(\"Enter numbers of List 2:\")).split(\",\")))\n",
    "\n",
    "consecutive_combo(a,b)"
   ]
  },
  {
   "cell_type": "code",
   "execution_count": 9,
   "id": "90fbcf1c",
   "metadata": {},
   "outputs": [
    {
     "data": {
      "text/plain": [
       "14796"
      ]
     },
     "execution_count": 9,
     "metadata": {},
     "output_type": "execute_result"
    }
   ],
   "source": [
    "def final_profit():\n",
    "    profit={\"cost_price\": 32.67,\"sell_price\": 45.00,\"inventory\": 1200}\n",
    "    final=round((profit[\"sell_price\"]-profit[\"cost_price\"])*profit[\"inventory\"])\n",
    "    return final\n",
    "final_profit()"
   ]
  },
  {
   "cell_type": "code",
   "execution_count": null,
   "id": "512f7931",
   "metadata": {},
   "outputs": [],
   "source": []
  }
 ],
 "metadata": {
  "kernelspec": {
   "display_name": "Python 3 (ipykernel)",
   "language": "python",
   "name": "python3"
  },
  "language_info": {
   "codemirror_mode": {
    "name": "ipython",
    "version": 3
   },
   "file_extension": ".py",
   "mimetype": "text/x-python",
   "name": "python",
   "nbconvert_exporter": "python",
   "pygments_lexer": "ipython3",
   "version": "3.9.7"
  }
 },
 "nbformat": 4,
 "nbformat_minor": 5
}
